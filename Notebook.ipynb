{
 "cells": [
  {
   "cell_type": "markdown",
   "metadata": {},
   "source": [
    "# Notebook Sistem Rekomendasi Content Based \n",
    "- Nama : I Gede Teguh Permana"
   ]
  },
  {
   "cell_type": "markdown",
   "metadata": {},
   "source": [
    "# Project Overview\n",
    "Perkembangan teknologi informasi dan telekomunikasi terus mengalami peningkatan yang signifikan. Saat ini, hampir semua aspek kehidupan manusia memanfaatkan teknologi informasi dan komunikasi, termasuk dalam bidang musik dan perfilman. Film, sebagai media audio-visual, menawarkan beragam genre, seperti komedi, drama, horor, action, dan lainnya, yang membuatnya menjadi salah satu bentuk hiburan yang sangat populer di masyarakat.\n",
    "\n",
    "Sejak tahun 1874 hingga 2015, tercatat sebanyak 3.361.741 judul film telah dirilis oleh industri perfilman. Jumlah judul yang begitu banyak sering kali menimbulkan kendala bagi penikmat film dalam menentukan film berikutnya yang akan ditonton. Informasi tentang film yang tersedia di berbagai situs web dapat diolah dan dimanfaatkan untuk memberikan rekomendasi film kepada pengguna lain. Masalah ini dapat diatasi dengan menyajikan daftar film yang direkomendasikan berdasarkan preferensi masing-masing pengguna. Oleh sebab itu, diperlukan sebuah sistem yang mampu memberikan rekomendasi film secara personal kepada pengguna.\n",
    "\n",
    "Sistem rekomendasi adalah mekanisme yang mampu menyediakan informasi atau saran yang sesuai dengan minat pengguna berdasarkan data yang diperoleh dari pengguna tersebut. Oleh karena itu, dibutuhkan model rekomendasi yang efektif agar saran yang diberikan sistem sesuai dengan selera pengguna, sekaligus memudahkan pengguna dalam membuat keputusan terkait film yang akan ditonton. Salah satu metode yang banyak digunakan dalam sistem rekomendasi adalah Collaborative Filtering. Metode ini menghubungkan pengguna yang memiliki kesamaan preferensi terhadap suatu item (film) berdasarkan penilaian atau rating yang mereka berikan."
   ]
  },
  {
   "cell_type": "markdown",
   "metadata": {},
   "source": [
    "## Business Understanding\n",
    "### 1. Problem Statements\n",
    "Berdasarkan latar belakang yang telah dijelaskan, permasalahan dapat dirumuskan sebagai berikut:\n",
    "- Bagaimana meningkatkan pengalaman pengguna dalam menemukan film yang diinginkan?\n",
    "- Bagaimana cara mengimplementasikan pendekatan *collaborative filtering* dalam membangun sistem rekomendasi film?\n",
    "\n",
    "### 2. Goals\n",
    "Proyek ini bertujuan untuk:\n",
    "- Meningkatkan pengalaman pengguna dalam mencari film yang sesuai dengan preferensi mereka.\n",
    "- Mengaplikasikan metode collaborative filtering untuk merancang sistem rekomendasi film yang efektif.\n",
    "\n",
    "### 3. Solusi\n",
    "Berdasarkan rumusan masalah dan tujuan yang telah ditetapkan, solusi yang diusulkan adalah sebagai berikut:\n",
    "- Mengimplementasikan pendekatan collaborative filtering dalam membangun sistem rekomendasi film. Metode ini dipilih karena data yang digunakan dalam proyek ini mencakup penilaian pengguna terhadap film-film yang telah mereka tonton. Pada pendekatan collaborative filtering, atribut utama yang dimanfaatkan adalah perilaku pengguna, seperti memberikan rekomendasi film berdasarkan riwayat penilaian dari pengguna tersebut maupun pengguna lainnya."
   ]
  },
  {
   "cell_type": "markdown",
   "metadata": {},
   "source": [
    "# Data Understanding\n",
    "Dataset yang digunakan dalam proyek ini diambil dari website kaggle.com dan dapat diakses melalui tautan berikut: Movie Lens Dataset https://www.kaggle.com/datasets/suryadeepti/movie-lens-dataset (data collection). Dataset ini memiliki format .csv yang terdiri dari dua file, yaitu movies.csv dan ratings.csv. Berikut adalah deskripsi dari masing-masing file tersebut:\n",
    "1. movies.csv\n",
    "- File ini berisi 9.742 baris dengan 3 kolom, yaitu:\n",
    "    - movieId, merupakan *unique Id* untuk masing-masing film\n",
    "    - title: Nama atau judul film, termasuk tahun rilis yang dicantumkan dalam tanda kurung.\n",
    "    - genre: Genre atau kategori film\n",
    "2. ratings.csv\n",
    "- File ini berisi 100.836 baris dengan 4 kolom, yaitu:\n",
    "    - userId: *unique Id* untuk masing-masing *user*\n",
    "    - movieId: *unique Id* untuk masing-masing film\n",
    "    - rating: Penilaian berupa skor oleh user terhadap suatu film\n",
    "    - timestamp: Waktu penilaian oleh user terhadap suatu film"
   ]
  },
  {
   "cell_type": "markdown",
   "metadata": {},
   "source": [
    "### Data Collection\n",
    "Data diambil dengan menggunakan kaggle API berdasarkan tautan https://www.kaggle.com/datasets/suryadeepti/movie-lens-dataset. Tahapan yang sebelumnya bisa dilakukan adalah:\n",
    "1. Mempersiapkan Json file yang dapat di request pada akun kaggle, kemudian download dan letakan kedalam direktori code.\n",
    "2. Melakukan proses download dataset berdasarkan keyword direct halaman dataset pada kaggle (suryadeepti/movie-lens-dataset)\n",
    "3. Data yang di download akan dalam bentuk ZIP file yang mana perlu di ekstrak sebelumnya untuk mendapatkan data CSV agar dapat diproses nantinya."
   ]
  },
  {
   "cell_type": "code",
   "execution_count": 1,
   "metadata": {},
   "outputs": [
    {
     "name": "stdout",
     "output_type": "stream",
     "text": [
      "Dataset URL: https://www.kaggle.com/datasets/suryadeepti/movie-lens-dataset\n",
      "License(s): unknown\n",
      "movie-lens-dataset.zip: Skipping, found more recently modified local copy (use --force to force download)\n"
     ]
    }
   ],
   "source": [
    "!kaggle datasets download -d suryadeepti/movie-lens-dataset"
   ]
  },
  {
   "cell_type": "code",
   "execution_count": 1,
   "metadata": {},
   "outputs": [],
   "source": [
    "import os\n",
    "import zipfile\n",
    "import pandas as pd\n",
    "import numpy as np\n",
    "import nltk\n",
    "import matplotlib.pyplot as plt\n",
    "import seaborn as sns\n",
    "from sklearn.preprocessing import MultiLabelBinarizer\n",
    "from sklearn.feature_extraction.text import TfidfVectorizer\n",
    "from collections import defaultdict\n",
    "\n",
    "import tensorflow as tf\n",
    "import keras\n",
    "from keras.models import Model\n",
    "from keras import layers\n",
    "from tensorflow.keras.optimizers import Adam\n",
    "from keras.layers import Add, Activation, Lambda, BatchNormalization, Concatenate, Dropout, Input, Embedding, Dot, Reshape, Dense, Flatten\n",
    "from tensorflow.keras.callbacks import Callback, ModelCheckpoint, LearningRateScheduler, TensorBoard, EarlyStopping, ReduceLROnPlateau"
   ]
  },
  {
   "cell_type": "code",
   "execution_count": 3,
   "metadata": {},
   "outputs": [],
   "source": [
    "zip_file = 'movie-lens-dataset.zip'\n",
    "zip_file = zipfile.ZipFile(zip_file, 'r')\n",
    "zip_file.extractall()\n",
    "zip_file.close()"
   ]
  },
  {
   "cell_type": "markdown",
   "metadata": {},
   "source": [
    "## Data Load\n",
    "Data Load dilakukan untuk mengekstrak data movie dan ratings  dengan pandas yang di implementasikan read_csv untuk dapat melihat keadaan dari data berdasarkan data yang sudah di lakukan proses data collection."
   ]
  },
  {
   "cell_type": "code",
   "execution_count": 2,
   "metadata": {},
   "outputs": [],
   "source": [
    "data_movie = pd.read_csv(r'Data\\movies.csv')\n",
    "data_ratings = pd.read_csv(r'Data\\ratings.csv')"
   ]
  },
  {
   "cell_type": "markdown",
   "metadata": {},
   "source": [
    "### Data Movie\n",
    "Adapun uraian fitur pada data movie adalah:\n",
    "- File ini berisi 9.742 baris dengan 3 kolom, yaitu:\n",
    "    - movieId, merupakan *unique Id* untuk masing-masing film\n",
    "    - title: Nama atau judul film, termasuk tahun rilis yang dicantumkan dalam tanda kurung.\n",
    "    - genre: Genre atau kategori film"
   ]
  },
  {
   "cell_type": "markdown",
   "metadata": {},
   "source": [
    "Data Movie dapat dilihat keadaan dari data tersebut dengan `head` method untuk melihat penjabaran nilai data pada movie, yang mana terdapat tiga fitur (movieId, title, genres)."
   ]
  },
  {
   "cell_type": "code",
   "execution_count": 3,
   "metadata": {},
   "outputs": [
    {
     "data": {
      "text/html": [
       "<div>\n",
       "<style scoped>\n",
       "    .dataframe tbody tr th:only-of-type {\n",
       "        vertical-align: middle;\n",
       "    }\n",
       "\n",
       "    .dataframe tbody tr th {\n",
       "        vertical-align: top;\n",
       "    }\n",
       "\n",
       "    .dataframe thead th {\n",
       "        text-align: right;\n",
       "    }\n",
       "</style>\n",
       "<table border=\"1\" class=\"dataframe\">\n",
       "  <thead>\n",
       "    <tr style=\"text-align: right;\">\n",
       "      <th></th>\n",
       "      <th>movieId</th>\n",
       "      <th>title</th>\n",
       "      <th>genres</th>\n",
       "    </tr>\n",
       "  </thead>\n",
       "  <tbody>\n",
       "    <tr>\n",
       "      <th>0</th>\n",
       "      <td>1</td>\n",
       "      <td>Toy Story (1995)</td>\n",
       "      <td>Adventure|Animation|Children|Comedy|Fantasy</td>\n",
       "    </tr>\n",
       "    <tr>\n",
       "      <th>1</th>\n",
       "      <td>2</td>\n",
       "      <td>Jumanji (1995)</td>\n",
       "      <td>Adventure|Children|Fantasy</td>\n",
       "    </tr>\n",
       "    <tr>\n",
       "      <th>2</th>\n",
       "      <td>3</td>\n",
       "      <td>Grumpier Old Men (1995)</td>\n",
       "      <td>Comedy|Romance</td>\n",
       "    </tr>\n",
       "    <tr>\n",
       "      <th>3</th>\n",
       "      <td>4</td>\n",
       "      <td>Waiting to Exhale (1995)</td>\n",
       "      <td>Comedy|Drama|Romance</td>\n",
       "    </tr>\n",
       "    <tr>\n",
       "      <th>4</th>\n",
       "      <td>5</td>\n",
       "      <td>Father of the Bride Part II (1995)</td>\n",
       "      <td>Comedy</td>\n",
       "    </tr>\n",
       "    <tr>\n",
       "      <th>5</th>\n",
       "      <td>6</td>\n",
       "      <td>Heat (1995)</td>\n",
       "      <td>Action|Crime|Thriller</td>\n",
       "    </tr>\n",
       "    <tr>\n",
       "      <th>6</th>\n",
       "      <td>7</td>\n",
       "      <td>Sabrina (1995)</td>\n",
       "      <td>Comedy|Romance</td>\n",
       "    </tr>\n",
       "    <tr>\n",
       "      <th>7</th>\n",
       "      <td>8</td>\n",
       "      <td>Tom and Huck (1995)</td>\n",
       "      <td>Adventure|Children</td>\n",
       "    </tr>\n",
       "    <tr>\n",
       "      <th>8</th>\n",
       "      <td>9</td>\n",
       "      <td>Sudden Death (1995)</td>\n",
       "      <td>Action</td>\n",
       "    </tr>\n",
       "    <tr>\n",
       "      <th>9</th>\n",
       "      <td>10</td>\n",
       "      <td>GoldenEye (1995)</td>\n",
       "      <td>Action|Adventure|Thriller</td>\n",
       "    </tr>\n",
       "  </tbody>\n",
       "</table>\n",
       "</div>"
      ],
      "text/plain": [
       "   movieId                               title  \\\n",
       "0        1                    Toy Story (1995)   \n",
       "1        2                      Jumanji (1995)   \n",
       "2        3             Grumpier Old Men (1995)   \n",
       "3        4            Waiting to Exhale (1995)   \n",
       "4        5  Father of the Bride Part II (1995)   \n",
       "5        6                         Heat (1995)   \n",
       "6        7                      Sabrina (1995)   \n",
       "7        8                 Tom and Huck (1995)   \n",
       "8        9                 Sudden Death (1995)   \n",
       "9       10                    GoldenEye (1995)   \n",
       "\n",
       "                                        genres  \n",
       "0  Adventure|Animation|Children|Comedy|Fantasy  \n",
       "1                   Adventure|Children|Fantasy  \n",
       "2                               Comedy|Romance  \n",
       "3                         Comedy|Drama|Romance  \n",
       "4                                       Comedy  \n",
       "5                        Action|Crime|Thriller  \n",
       "6                               Comedy|Romance  \n",
       "7                           Adventure|Children  \n",
       "8                                       Action  \n",
       "9                    Action|Adventure|Thriller  "
      ]
     },
     "execution_count": 3,
     "metadata": {},
     "output_type": "execute_result"
    }
   ],
   "source": [
    "data_movie.head(10)"
   ]
  },
  {
   "cell_type": "markdown",
   "metadata": {},
   "source": [
    "`info` method untuk melihat keadaan informasi yang terdapat pada table movie, yang mana pada fitur movieId memiliki tipe data integer, title serta genres mengandung tipe data object. "
   ]
  },
  {
   "cell_type": "code",
   "execution_count": 4,
   "metadata": {},
   "outputs": [
    {
     "name": "stdout",
     "output_type": "stream",
     "text": [
      "<class 'pandas.core.frame.DataFrame'>\n",
      "RangeIndex: 9742 entries, 0 to 9741\n",
      "Data columns (total 3 columns):\n",
      " #   Column   Non-Null Count  Dtype \n",
      "---  ------   --------------  ----- \n",
      " 0   movieId  9742 non-null   int64 \n",
      " 1   title    9742 non-null   object\n",
      " 2   genres   9742 non-null   object\n",
      "dtypes: int64(1), object(2)\n",
      "memory usage: 228.5+ KB\n"
     ]
    }
   ],
   "source": [
    "data_movie.info()"
   ]
  },
  {
   "cell_type": "markdown",
   "metadata": {},
   "source": [
    "`null check` dengan sum setiap row data yang mengandung null yang mana tidak ada nya null data untuk setiap fitur data (movieId, title, genres)."
   ]
  },
  {
   "cell_type": "code",
   "execution_count": 5,
   "metadata": {},
   "outputs": [
    {
     "name": "stderr",
     "output_type": "stream",
     "text": [
      "d:\\Materi_data-science\\Dicoding_Rekomendasi\\env\\Lib\\site-packages\\numpy\\_core\\fromnumeric.py:84: FutureWarning: The behavior of DataFrame.sum with axis=None is deprecated, in a future version this will reduce over both axes and return a scalar. To retain the old behavior, pass axis=0 (or do not pass axis)\n",
      "  return reduction(axis=axis, out=out, **passkwargs)\n"
     ]
    },
    {
     "data": {
      "text/plain": [
       "movieId    0\n",
       "title      0\n",
       "genres     0\n",
       "dtype: int64"
      ]
     },
     "execution_count": 5,
     "metadata": {},
     "output_type": "execute_result"
    }
   ],
   "source": [
    "np.sum(data_movie.isnull())"
   ]
  },
  {
   "cell_type": "markdown",
   "metadata": {},
   "source": [
    "`duplicated` dengan sum setiap row data yang mengandung duplicate, yang mana diperoleh bahwa tidak ada nya duplicated data untuk setiap fitur data (movieId, title, genres)."
   ]
  },
  {
   "cell_type": "code",
   "execution_count": 6,
   "metadata": {},
   "outputs": [
    {
     "data": {
      "text/plain": [
       "np.int64(0)"
      ]
     },
     "execution_count": 6,
     "metadata": {},
     "output_type": "execute_result"
    }
   ],
   "source": [
    "np.sum(data_movie.duplicated())"
   ]
  },
  {
   "cell_type": "markdown",
   "metadata": {},
   "source": [
    "### Data Rating\n",
    "Adapun penjelasan dari fitur data yang ada pada data rating:\n",
    "- File ini berisi 100.836 baris dengan 4 kolom, yaitu:\n",
    "    - userId: *unique Id* untuk masing-masing *user*\n",
    "    - movieId: *unique Id* untuk masing-masing film\n",
    "    - rating: Penilaian berupa skor oleh user terhadap suatu film\n",
    "    - timestamp: Waktu penilaian oleh user terhadap suatu film"
   ]
  },
  {
   "cell_type": "markdown",
   "metadata": {},
   "source": [
    "Data Rating dapat dilihat keadaan dari data tersebut dengan `head` method untuk melihat penjabaran nilai data pada rating, yang mana terdapat empat fitur (userId, movieId, rating, timestamp)."
   ]
  },
  {
   "cell_type": "code",
   "execution_count": 7,
   "metadata": {},
   "outputs": [
    {
     "data": {
      "text/html": [
       "<div>\n",
       "<style scoped>\n",
       "    .dataframe tbody tr th:only-of-type {\n",
       "        vertical-align: middle;\n",
       "    }\n",
       "\n",
       "    .dataframe tbody tr th {\n",
       "        vertical-align: top;\n",
       "    }\n",
       "\n",
       "    .dataframe thead th {\n",
       "        text-align: right;\n",
       "    }\n",
       "</style>\n",
       "<table border=\"1\" class=\"dataframe\">\n",
       "  <thead>\n",
       "    <tr style=\"text-align: right;\">\n",
       "      <th></th>\n",
       "      <th>userId</th>\n",
       "      <th>movieId</th>\n",
       "      <th>rating</th>\n",
       "      <th>timestamp</th>\n",
       "    </tr>\n",
       "  </thead>\n",
       "  <tbody>\n",
       "    <tr>\n",
       "      <th>0</th>\n",
       "      <td>1</td>\n",
       "      <td>1</td>\n",
       "      <td>4.0</td>\n",
       "      <td>964982703</td>\n",
       "    </tr>\n",
       "    <tr>\n",
       "      <th>1</th>\n",
       "      <td>1</td>\n",
       "      <td>3</td>\n",
       "      <td>4.0</td>\n",
       "      <td>964981247</td>\n",
       "    </tr>\n",
       "    <tr>\n",
       "      <th>2</th>\n",
       "      <td>1</td>\n",
       "      <td>6</td>\n",
       "      <td>4.0</td>\n",
       "      <td>964982224</td>\n",
       "    </tr>\n",
       "    <tr>\n",
       "      <th>3</th>\n",
       "      <td>1</td>\n",
       "      <td>47</td>\n",
       "      <td>5.0</td>\n",
       "      <td>964983815</td>\n",
       "    </tr>\n",
       "    <tr>\n",
       "      <th>4</th>\n",
       "      <td>1</td>\n",
       "      <td>50</td>\n",
       "      <td>5.0</td>\n",
       "      <td>964982931</td>\n",
       "    </tr>\n",
       "  </tbody>\n",
       "</table>\n",
       "</div>"
      ],
      "text/plain": [
       "   userId  movieId  rating  timestamp\n",
       "0       1        1     4.0  964982703\n",
       "1       1        3     4.0  964981247\n",
       "2       1        6     4.0  964982224\n",
       "3       1       47     5.0  964983815\n",
       "4       1       50     5.0  964982931"
      ]
     },
     "execution_count": 7,
     "metadata": {},
     "output_type": "execute_result"
    }
   ],
   "source": [
    "data_ratings.head()"
   ]
  },
  {
   "cell_type": "markdown",
   "metadata": {},
   "source": [
    "`info` method untuk melihat keadaan informasi yang terdapat pada table rating."
   ]
  },
  {
   "cell_type": "code",
   "execution_count": 8,
   "metadata": {},
   "outputs": [
    {
     "name": "stdout",
     "output_type": "stream",
     "text": [
      "<class 'pandas.core.frame.DataFrame'>\n",
      "RangeIndex: 100836 entries, 0 to 100835\n",
      "Data columns (total 4 columns):\n",
      " #   Column     Non-Null Count   Dtype  \n",
      "---  ------     --------------   -----  \n",
      " 0   userId     100836 non-null  int64  \n",
      " 1   movieId    100836 non-null  int64  \n",
      " 2   rating     100836 non-null  float64\n",
      " 3   timestamp  100836 non-null  int64  \n",
      "dtypes: float64(1), int64(3)\n",
      "memory usage: 3.1 MB\n"
     ]
    }
   ],
   "source": [
    "data_ratings.info()"
   ]
  },
  {
   "cell_type": "markdown",
   "metadata": {},
   "source": [
    " `null check` dengan sum setiap row data yang mengandung null, yang mana diperoleh bahwa tidak ada nya null data untuk setiap fitur data (userId, movieId, rating, timestamp)."
   ]
  },
  {
   "cell_type": "code",
   "execution_count": 9,
   "metadata": {},
   "outputs": [
    {
     "name": "stderr",
     "output_type": "stream",
     "text": [
      "d:\\Materi_data-science\\Dicoding_Rekomendasi\\env\\Lib\\site-packages\\numpy\\_core\\fromnumeric.py:84: FutureWarning: The behavior of DataFrame.sum with axis=None is deprecated, in a future version this will reduce over both axes and return a scalar. To retain the old behavior, pass axis=0 (or do not pass axis)\n",
      "  return reduction(axis=axis, out=out, **passkwargs)\n"
     ]
    },
    {
     "data": {
      "text/plain": [
       "userId       0\n",
       "movieId      0\n",
       "rating       0\n",
       "timestamp    0\n",
       "dtype: int64"
      ]
     },
     "execution_count": 9,
     "metadata": {},
     "output_type": "execute_result"
    }
   ],
   "source": [
    "np.sum(data_ratings.isnull())"
   ]
  },
  {
   "cell_type": "markdown",
   "metadata": {},
   "source": [
    "`duplicated` dengan sum setiap row data yang mengandung null, yang mana diperoleh bahwa tidak ada nya null data untuk setiap fitur data (userId, movieId, rating, timestamp)"
   ]
  },
  {
   "cell_type": "code",
   "execution_count": 10,
   "metadata": {},
   "outputs": [
    {
     "data": {
      "text/plain": [
       "np.int64(0)"
      ]
     },
     "execution_count": 10,
     "metadata": {},
     "output_type": "execute_result"
    }
   ],
   "source": [
    "np.sum(data_ratings.duplicated())"
   ]
  },
  {
   "cell_type": "markdown",
   "metadata": {},
   "source": [
    "Knowledge: \n",
    "- Terdapat 3 fitur pada movie, dan 4 fitur pada ratings. Dilihat pada movieId adalah sebuah foreign key untuk data movie sehingga data bisa di merge"
   ]
  },
  {
   "cell_type": "markdown",
   "metadata": {},
   "source": [
    "# Data Preparation\n",
    "Pada data preparation dilakukan sebuah tahapan memproses data yang mana tahapan pemrosesan data terdiri dari proses `drop kolom`, `merge data`, `Normalize fitur`, `Encode fitur`, dan `split data`. "
   ]
  },
  {
   "cell_type": "markdown",
   "metadata": {},
   "source": [
    "### Drop Kolom\n",
    "Pada drop kolom dilakukan pada kolom /fitur timestamp pada data ratings dikarenakan `timestamp` tidak digunakan untuk rekomendasi maka bisa di drop"
   ]
  },
  {
   "cell_type": "code",
   "execution_count": 11,
   "metadata": {},
   "outputs": [],
   "source": [
    "data_ratings = data_ratings.drop(['timestamp'], axis=1)"
   ]
  },
  {
   "cell_type": "markdown",
   "metadata": {},
   "source": [
    "### Merge Data\n",
    "- Merge data movie dan data ratings berdasarkan fitur movieId, dikarenakan fitur movieid adalah foreign key, proses merge data dilakukan dengan inner join method yang berarti hanya baris baris yang memiliki nilai movieId yang sama di kedua dataframe akan disertakan dalam data frame hasil (data ratings terhadap data movie)"
   ]
  },
  {
   "cell_type": "code",
   "execution_count": 14,
   "metadata": {},
   "outputs": [
    {
     "data": {
      "text/html": [
       "<div>\n",
       "<style scoped>\n",
       "    .dataframe tbody tr th:only-of-type {\n",
       "        vertical-align: middle;\n",
       "    }\n",
       "\n",
       "    .dataframe tbody tr th {\n",
       "        vertical-align: top;\n",
       "    }\n",
       "\n",
       "    .dataframe thead th {\n",
       "        text-align: right;\n",
       "    }\n",
       "</style>\n",
       "<table border=\"1\" class=\"dataframe\">\n",
       "  <thead>\n",
       "    <tr style=\"text-align: right;\">\n",
       "      <th></th>\n",
       "      <th>userId</th>\n",
       "      <th>movieId</th>\n",
       "      <th>rating</th>\n",
       "      <th>title</th>\n",
       "      <th>genres</th>\n",
       "    </tr>\n",
       "  </thead>\n",
       "  <tbody>\n",
       "    <tr>\n",
       "      <th>0</th>\n",
       "      <td>1</td>\n",
       "      <td>1</td>\n",
       "      <td>4.0</td>\n",
       "      <td>Toy Story (1995)</td>\n",
       "      <td>Adventure|Animation|Children|Comedy|Fantasy</td>\n",
       "    </tr>\n",
       "    <tr>\n",
       "      <th>1</th>\n",
       "      <td>1</td>\n",
       "      <td>3</td>\n",
       "      <td>4.0</td>\n",
       "      <td>Grumpier Old Men (1995)</td>\n",
       "      <td>Comedy|Romance</td>\n",
       "    </tr>\n",
       "    <tr>\n",
       "      <th>2</th>\n",
       "      <td>1</td>\n",
       "      <td>6</td>\n",
       "      <td>4.0</td>\n",
       "      <td>Heat (1995)</td>\n",
       "      <td>Action|Crime|Thriller</td>\n",
       "    </tr>\n",
       "    <tr>\n",
       "      <th>3</th>\n",
       "      <td>1</td>\n",
       "      <td>47</td>\n",
       "      <td>5.0</td>\n",
       "      <td>Seven (a.k.a. Se7en) (1995)</td>\n",
       "      <td>Mystery|Thriller</td>\n",
       "    </tr>\n",
       "    <tr>\n",
       "      <th>4</th>\n",
       "      <td>1</td>\n",
       "      <td>50</td>\n",
       "      <td>5.0</td>\n",
       "      <td>Usual Suspects, The (1995)</td>\n",
       "      <td>Crime|Mystery|Thriller</td>\n",
       "    </tr>\n",
       "  </tbody>\n",
       "</table>\n",
       "</div>"
      ],
      "text/plain": [
       "   userId  movieId  rating                        title  \\\n",
       "0       1        1     4.0             Toy Story (1995)   \n",
       "1       1        3     4.0      Grumpier Old Men (1995)   \n",
       "2       1        6     4.0                  Heat (1995)   \n",
       "3       1       47     5.0  Seven (a.k.a. Se7en) (1995)   \n",
       "4       1       50     5.0   Usual Suspects, The (1995)   \n",
       "\n",
       "                                        genres  \n",
       "0  Adventure|Animation|Children|Comedy|Fantasy  \n",
       "1                               Comedy|Romance  \n",
       "2                        Action|Crime|Thriller  \n",
       "3                             Mystery|Thriller  \n",
       "4                       Crime|Mystery|Thriller  "
      ]
     },
     "execution_count": 14,
     "metadata": {},
     "output_type": "execute_result"
    }
   ],
   "source": [
    "data = data_ratings.merge(data_movie, how='inner', on='movieId')\n",
    "data.head()"
   ]
  },
  {
   "cell_type": "markdown",
   "metadata": {},
   "source": [
    "### Normalize the fitur rating\n",
    "Normalisasi dilakukan dengan metode normalisasi min-max dengan mengubah setiap nilai dalam kolom menjadi pecahan dari batas bawah hingga batas atas sehingga nilai nilai tersebut berada dalam rentang antara 0 dan 1. Pada pemrosesan yang dilakukan di kalkulasi dengan memproses fitur rating sehingga di peroleh nilai rata-rata rating berdasarkan perhitungan min-max scaller. lalu mengkodekan kolom userId dan movieId menjadi indeks integer dan mencetak jumlah userId dan movieId unik, nilai minimum dan maksimum dari rating. "
   ]
  },
  {
   "cell_type": "code",
   "execution_count": 15,
   "metadata": {},
   "outputs": [],
   "source": [
    "batas_bawah = min(data['rating'])\n",
    "batas_atas = max(data['rating'])\n",
    "data['rating'] = data['rating'].apply(lambda x : (x - batas_bawah) / (batas_atas - batas_bawah)).values.astype(np.float32)\n",
    "avg_rating = np.mean(data['rating'])"
   ]
  },
  {
   "cell_type": "code",
   "execution_count": 16,
   "metadata": {},
   "outputs": [
    {
     "name": "stdout",
     "output_type": "stream",
     "text": [
      "Rata Rata Rating oleh setiap user: 0.6670127\n"
     ]
    }
   ],
   "source": [
    "print('Rata Rata Rating oleh setiap user:', avg_rating)"
   ]
  },
  {
   "cell_type": "markdown",
   "metadata": {},
   "source": [
    "### Encoder UserId and MovieId\n",
    "Proses generate `user` dan `movie` fitur dilakukan dalam DataFrame data menjadi indeks integer, proses yang dilakukan di awali dengan mengambil nilai userId unik dan konversi menjadi draft daftar yang mana proses yang sama dilakukan pada movieId dalam data frame diubah menjadi indeks integer menggunakan dictionary yang telah di buat.\n",
    "- Akhirnya dapat diperoleh jumlah dari userId dan movieId unik, digunakan untuk memudahkan manipulasi data dan analisis lebih lanjut karena indeks integer lebih efisien dan mudah diolah dalam model rekomendasi."
   ]
  },
  {
   "cell_type": "code",
   "execution_count": 17,
   "metadata": {},
   "outputs": [],
   "source": [
    "userId = data['userId'].unique().tolist()\n",
    "encoderUser = { x : i for i, x in enumerate(userId)}\n",
    "\n",
    "encodertoUser = { i : x for i, x in enumerate(userId)}\n",
    "\n",
    "data['user'] = data['userId'].map(encoderUser)\n",
    "n_user = len(encoderUser)\n",
    "\n",
    "movieId = data['movieId'].unique().tolist()\n",
    "\n",
    "encoderMovie = { x: i for i, x in enumerate(movieId)}\n",
    "encodertoMovie = { i : x for i, x in enumerate(movieId)}\n",
    "\n",
    "data['movie'] = data['movieId'].map(encoderMovie)\n",
    "n_movie = len(encoderMovie)"
   ]
  },
  {
   "cell_type": "markdown",
   "metadata": {},
   "source": [
    "dari hasil pemrosesan encoder UserId dan MovieId dapat dilihat bahwa userId yang memetakan movieId dengan userId yang sama akan memetakan beberapa nilai pada movie yang berbeda yang menandakan ketertarikan setiap user yang berbeda terhadap beragam jenis movie"
   ]
  },
  {
   "cell_type": "code",
   "execution_count": 18,
   "metadata": {},
   "outputs": [
    {
     "data": {
      "text/html": [
       "<div>\n",
       "<style scoped>\n",
       "    .dataframe tbody tr th:only-of-type {\n",
       "        vertical-align: middle;\n",
       "    }\n",
       "\n",
       "    .dataframe tbody tr th {\n",
       "        vertical-align: top;\n",
       "    }\n",
       "\n",
       "    .dataframe thead th {\n",
       "        text-align: right;\n",
       "    }\n",
       "</style>\n",
       "<table border=\"1\" class=\"dataframe\">\n",
       "  <thead>\n",
       "    <tr style=\"text-align: right;\">\n",
       "      <th></th>\n",
       "      <th>userId</th>\n",
       "      <th>movieId</th>\n",
       "      <th>rating</th>\n",
       "      <th>title</th>\n",
       "      <th>genres</th>\n",
       "      <th>user</th>\n",
       "      <th>movie</th>\n",
       "    </tr>\n",
       "  </thead>\n",
       "  <tbody>\n",
       "    <tr>\n",
       "      <th>0</th>\n",
       "      <td>1</td>\n",
       "      <td>1</td>\n",
       "      <td>0.777778</td>\n",
       "      <td>Toy Story (1995)</td>\n",
       "      <td>Adventure|Animation|Children|Comedy|Fantasy</td>\n",
       "      <td>0</td>\n",
       "      <td>0</td>\n",
       "    </tr>\n",
       "    <tr>\n",
       "      <th>1</th>\n",
       "      <td>1</td>\n",
       "      <td>3</td>\n",
       "      <td>0.777778</td>\n",
       "      <td>Grumpier Old Men (1995)</td>\n",
       "      <td>Comedy|Romance</td>\n",
       "      <td>0</td>\n",
       "      <td>1</td>\n",
       "    </tr>\n",
       "    <tr>\n",
       "      <th>2</th>\n",
       "      <td>1</td>\n",
       "      <td>6</td>\n",
       "      <td>0.777778</td>\n",
       "      <td>Heat (1995)</td>\n",
       "      <td>Action|Crime|Thriller</td>\n",
       "      <td>0</td>\n",
       "      <td>2</td>\n",
       "    </tr>\n",
       "    <tr>\n",
       "      <th>3</th>\n",
       "      <td>1</td>\n",
       "      <td>47</td>\n",
       "      <td>1.000000</td>\n",
       "      <td>Seven (a.k.a. Se7en) (1995)</td>\n",
       "      <td>Mystery|Thriller</td>\n",
       "      <td>0</td>\n",
       "      <td>3</td>\n",
       "    </tr>\n",
       "    <tr>\n",
       "      <th>4</th>\n",
       "      <td>1</td>\n",
       "      <td>50</td>\n",
       "      <td>1.000000</td>\n",
       "      <td>Usual Suspects, The (1995)</td>\n",
       "      <td>Crime|Mystery|Thriller</td>\n",
       "      <td>0</td>\n",
       "      <td>4</td>\n",
       "    </tr>\n",
       "    <tr>\n",
       "      <th>...</th>\n",
       "      <td>...</td>\n",
       "      <td>...</td>\n",
       "      <td>...</td>\n",
       "      <td>...</td>\n",
       "      <td>...</td>\n",
       "      <td>...</td>\n",
       "      <td>...</td>\n",
       "    </tr>\n",
       "    <tr>\n",
       "      <th>100831</th>\n",
       "      <td>610</td>\n",
       "      <td>166534</td>\n",
       "      <td>0.777778</td>\n",
       "      <td>Split (2017)</td>\n",
       "      <td>Drama|Horror|Thriller</td>\n",
       "      <td>609</td>\n",
       "      <td>3120</td>\n",
       "    </tr>\n",
       "    <tr>\n",
       "      <th>100832</th>\n",
       "      <td>610</td>\n",
       "      <td>168248</td>\n",
       "      <td>1.000000</td>\n",
       "      <td>John Wick: Chapter Two (2017)</td>\n",
       "      <td>Action|Crime|Thriller</td>\n",
       "      <td>609</td>\n",
       "      <td>2035</td>\n",
       "    </tr>\n",
       "    <tr>\n",
       "      <th>100833</th>\n",
       "      <td>610</td>\n",
       "      <td>168250</td>\n",
       "      <td>1.000000</td>\n",
       "      <td>Get Out (2017)</td>\n",
       "      <td>Horror</td>\n",
       "      <td>609</td>\n",
       "      <td>3121</td>\n",
       "    </tr>\n",
       "    <tr>\n",
       "      <th>100834</th>\n",
       "      <td>610</td>\n",
       "      <td>168252</td>\n",
       "      <td>1.000000</td>\n",
       "      <td>Logan (2017)</td>\n",
       "      <td>Action|Sci-Fi</td>\n",
       "      <td>609</td>\n",
       "      <td>1392</td>\n",
       "    </tr>\n",
       "    <tr>\n",
       "      <th>100835</th>\n",
       "      <td>610</td>\n",
       "      <td>170875</td>\n",
       "      <td>0.555556</td>\n",
       "      <td>The Fate of the Furious (2017)</td>\n",
       "      <td>Action|Crime|Drama|Thriller</td>\n",
       "      <td>609</td>\n",
       "      <td>2873</td>\n",
       "    </tr>\n",
       "  </tbody>\n",
       "</table>\n",
       "<p>100836 rows × 7 columns</p>\n",
       "</div>"
      ],
      "text/plain": [
       "        userId  movieId    rating                           title  \\\n",
       "0            1        1  0.777778                Toy Story (1995)   \n",
       "1            1        3  0.777778         Grumpier Old Men (1995)   \n",
       "2            1        6  0.777778                     Heat (1995)   \n",
       "3            1       47  1.000000     Seven (a.k.a. Se7en) (1995)   \n",
       "4            1       50  1.000000      Usual Suspects, The (1995)   \n",
       "...        ...      ...       ...                             ...   \n",
       "100831     610   166534  0.777778                    Split (2017)   \n",
       "100832     610   168248  1.000000   John Wick: Chapter Two (2017)   \n",
       "100833     610   168250  1.000000                  Get Out (2017)   \n",
       "100834     610   168252  1.000000                    Logan (2017)   \n",
       "100835     610   170875  0.555556  The Fate of the Furious (2017)   \n",
       "\n",
       "                                             genres  user  movie  \n",
       "0       Adventure|Animation|Children|Comedy|Fantasy     0      0  \n",
       "1                                    Comedy|Romance     0      1  \n",
       "2                             Action|Crime|Thriller     0      2  \n",
       "3                                  Mystery|Thriller     0      3  \n",
       "4                            Crime|Mystery|Thriller     0      4  \n",
       "...                                             ...   ...    ...  \n",
       "100831                        Drama|Horror|Thriller   609   3120  \n",
       "100832                        Action|Crime|Thriller   609   2035  \n",
       "100833                                       Horror   609   3121  \n",
       "100834                                Action|Sci-Fi   609   1392  \n",
       "100835                  Action|Crime|Drama|Thriller   609   2873  \n",
       "\n",
       "[100836 rows x 7 columns]"
      ]
     },
     "execution_count": 18,
     "metadata": {},
     "output_type": "execute_result"
    }
   ],
   "source": [
    "data"
   ]
  },
  {
   "cell_type": "code",
   "execution_count": 19,
   "metadata": {},
   "outputs": [
    {
     "data": {
      "image/png": "[encoded data removed]",
      "text/plain": [
       "<Figure size 2000x600 with 1 Axes>"
      ]
     },
     "metadata": {},
     "output_type": "display_data"
    }
   ],
   "source": [
    "import matplotlib.pyplot as plt\n",
    "import pandas as pd\n",
    "\n",
    "# Menghitung jumlah film yang dilihat oleh setiap user\n",
    "user_movie_counts = data.groupby('user').size()\n",
    "\n",
    "# Membuat bar chart\n",
    "user_movie_counts.plot(kind='bar', figsize=(20, 6))\n",
    "plt.xlabel('User Index')\n",
    "plt.ylabel('Number of Movies Watched')\n",
    "plt.title('Number of Movies Watched by Each User')\n",
    "\n",
    "# Menampilkan setiap rasio ke-10 pada sumbu x\n",
    "x_ticks = list(range(0, len(user_movie_counts), 10))  \n",
    "x_labels = [user_movie_counts.index[i] for i in x_ticks]\n",
    "plt.xticks(ticks=x_ticks, labels=x_labels, rotation=0)\n",
    "\n",
    "plt.tight_layout()  \n",
    "plt.show()\n"
   ]
  },
  {
   "cell_type": "markdown",
   "metadata": {},
   "source": [
    "Dari grafik jumlah movie yang ditonton oleh setiap user diperoleh bahwa, ada beberapa user yang menonton movie sangat tinggi (413, dan 588) adapun yang menonton movie sangat rendah, sehingga cukup stabil perkembangan jumlah user dalam menonton movie"
   ]
  },
  {
   "cell_type": "code",
   "execution_count": 20,
   "metadata": {},
   "outputs": [
    {
     "name": "stdout",
     "output_type": "stream",
     "text": [
      "Jumlah User: 610\n",
      "Jumlah Movie: 9724\n",
      "Batas Bawah: 0.0\n",
      "Batas Atas: 1.0\n"
     ]
    }
   ],
   "source": [
    "print('Jumlah User: {}'.format(n_user))\n",
    "print('Jumlah Movie: {}'.format(n_movie))\n",
    "\n",
    "print('Batas Bawah: {}'.format(min(data['rating'])))\n",
    "print('Batas Atas: {}'.format(max(data['rating'])))"
   ]
  },
  {
   "cell_type": "markdown",
   "metadata": {},
   "source": [
    "### Data Split\n",
    "Proses split data dilakukan dengan membabi data menjadi data train dan test, yang mana pembagian data dirujuk pada variabel X (user, movie) yang digunakan untuk representasi fitur data dan y (rating) yang digunakan untuk representasi label data.\n",
    "- Adapun ukuran pembagian data di dasari pada ukuran test data yakni 200000, sedangkan pada ukuran train data menyesuaikan yang di impelementasikan dengan metode indeks slicing.\n",
    "- Sehingga diperoleh bahwa train data sebesar 1672:  dan test data sebesar : 99164"
   ]
  },
  {
   "cell_type": "code",
   "execution_count": 21,
   "metadata": {},
   "outputs": [
    {
     "name": "stdout",
     "output_type": "stream",
     "text": [
      "train_size: 1672\n",
      "test_size: 99164\n"
     ]
    }
   ],
   "source": [
    "X = data[['user', 'movie']].values\n",
    "y = data['rating']\n",
    "\n",
    "# membagi data\n",
    "test_size = int(2e5)\n",
    "indices =  data.shape[0] - test_size\n",
    "X_train, X_test, y_train, y_test = (X[:indices], X[indices:], y[:indices], y[indices:])\n",
    "\n",
    "X_train = [X_train[:, 0], X_train[:, 1]]\n",
    "X_test = [X_test[:, 0], X_test[:, 1]]\n",
    "\n",
    "print('train_size:', np.shape(X_train)[1])\n",
    "print('test_size:',np.shape(X_test)[1])"
   ]
  },
  {
   "cell_type": "markdown",
   "metadata": {},
   "source": [
    "# Modeling & Result "
   ]
  },
  {
   "cell_type": "markdown",
   "metadata": {},
   "source": [
    "## Model\n",
    "Proses modeling dilakukan dengan menggunakan model deep learning dengan model arsitektur sebagai berikut: \n",
    "- Input layer\n",
    "- Embedding layer\n",
    "- Dot product layer\n",
    "- Flatten layer\n",
    "- Dense layer\n",
    "- Output layer\n",
    "\n",
    "Dari setiap model yang disusun berdasarkan arsitektur tersebut dilakukan inisialisasi model berdasarkan input user dan movie yang digunakan sebagai representasi fitur data, X di output layer sebagai representasi label data.\n",
    "setiap model di compile dengan loss function, metrics, dan optimizer."
   ]
  },
  {
   "cell_type": "code",
   "execution_count": 22,
   "metadata": {},
   "outputs": [],
   "source": [
    "def model_architecture():\n",
    "    user = Input(name='user', shape=[1])\n",
    "    user_embed = Embedding(name='user_embedding', input_dim= n_user, output_dim=128)(user)\n",
    "    \n",
    "    movie = Input(name='movie', shape=[1])\n",
    "    movie_embed = Embedding(name = 'movie_embedding', input_dim=n_movie, output_dim=128)(movie)\n",
    "    \n",
    "    X = Dot(name = 'dot_product', normalize=True, axes=2)([user_embed, movie_embed])\n",
    "    X = Flatten()(X)\n",
    "    X = Dense(1, kernel_initializer='he_normal')(X)\n",
    "    X = Activation('sigmoid')(X)\n",
    "    \n",
    "    model = Model(inputs = [user, movie], outputs = X)\n",
    "    model.compile(loss= 'binary_crossentropy',\n",
    "                  metrics = ['mse', tf.keras.metrics.Precision(), tf.keras.metrics.Recall()],\n",
    "                  optimizer = 'Adam')\n",
    "    return model"
   ]
  },
  {
   "cell_type": "code",
   "execution_count": 23,
   "metadata": {},
   "outputs": [
    {
     "data": {
      "text/html": [
       "<pre style=\"white-space:pre;overflow-x:auto;line-height:normal;font-family:Menlo,'DejaVu Sans Mono',consolas,'Courier New',monospace\"><span style=\"font-weight: bold\">Model: \"functional\"</span>\n",
       "</pre>\n"
      ],
      "text/plain": [
       "\u001b[1mModel: \"functional\"\u001b[0m\n"
      ]
     },
     "metadata": {},
     "output_type": "display_data"
    },
    {
     "data": {
      "text/html": [
       "<pre style=\"white-space:pre;overflow-x:auto;line-height:normal;font-family:Menlo,'DejaVu Sans Mono',consolas,'Courier New',monospace\">┏━━━━━━━━━━━━━━━━━━━━━┳━━━━━━━━━━━━━━━━━━━┳━━━━━━━━━━━━┳━━━━━━━━━━━━━━━━━━━┓\n",
       "┃<span style=\"font-weight: bold\"> Layer (type)        </span>┃<span style=\"font-weight: bold\"> Output Shape      </span>┃<span style=\"font-weight: bold\">    Param # </span>┃<span style=\"font-weight: bold\"> Connected to      </span>┃\n",
       "┡━━━━━━━━━━━━━━━━━━━━━╇━━━━━━━━━━━━━━━━━━━╇━━━━━━━━━━━━╇━━━━━━━━━━━━━━━━━━━┩\n",
       "│ user (<span style=\"color: #0087ff; text-decoration-color: #0087ff\">InputLayer</span>)   │ (<span style=\"color: #00d7ff; text-decoration-color: #00d7ff\">None</span>, <span style=\"color: #00af00; text-decoration-color: #00af00\">1</span>)         │          <span style=\"color: #00af00; text-decoration-color: #00af00\">0</span> │ -                 │\n",
       "├─────────────────────┼───────────────────┼────────────┼───────────────────┤\n",
       "│ movie (<span style=\"color: #0087ff; text-decoration-color: #0087ff\">InputLayer</span>)  │ (<span style=\"color: #00d7ff; text-decoration-color: #00d7ff\">None</span>, <span style=\"color: #00af00; text-decoration-color: #00af00\">1</span>)         │          <span style=\"color: #00af00; text-decoration-color: #00af00\">0</span> │ -                 │\n",
       "├─────────────────────┼───────────────────┼────────────┼───────────────────┤\n",
       "│ user_embedding      │ (<span style=\"color: #00d7ff; text-decoration-color: #00d7ff\">None</span>, <span style=\"color: #00af00; text-decoration-color: #00af00\">1</span>, <span style=\"color: #00af00; text-decoration-color: #00af00\">128</span>)    │     <span style=\"color: #00af00; text-decoration-color: #00af00\">78,080</span> │ user[<span style=\"color: #00af00; text-decoration-color: #00af00\">0</span>][<span style=\"color: #00af00; text-decoration-color: #00af00\">0</span>]        │\n",
       "│ (<span style=\"color: #0087ff; text-decoration-color: #0087ff\">Embedding</span>)         │                   │            │                   │\n",
       "├─────────────────────┼───────────────────┼────────────┼───────────────────┤\n",
       "│ movie_embedding     │ (<span style=\"color: #00d7ff; text-decoration-color: #00d7ff\">None</span>, <span style=\"color: #00af00; text-decoration-color: #00af00\">1</span>, <span style=\"color: #00af00; text-decoration-color: #00af00\">128</span>)    │  <span style=\"color: #00af00; text-decoration-color: #00af00\">1,244,672</span> │ movie[<span style=\"color: #00af00; text-decoration-color: #00af00\">0</span>][<span style=\"color: #00af00; text-decoration-color: #00af00\">0</span>]       │\n",
       "│ (<span style=\"color: #0087ff; text-decoration-color: #0087ff\">Embedding</span>)         │                   │            │                   │\n",
       "├─────────────────────┼───────────────────┼────────────┼───────────────────┤\n",
       "│ dot_product (<span style=\"color: #0087ff; text-decoration-color: #0087ff\">Dot</span>)   │ (<span style=\"color: #00d7ff; text-decoration-color: #00d7ff\">None</span>, <span style=\"color: #00af00; text-decoration-color: #00af00\">1</span>, <span style=\"color: #00af00; text-decoration-color: #00af00\">1</span>)      │          <span style=\"color: #00af00; text-decoration-color: #00af00\">0</span> │ user_embedding[<span style=\"color: #00af00; text-decoration-color: #00af00\">0</span>… │\n",
       "│                     │                   │            │ movie_embedding[<span style=\"color: #00af00; text-decoration-color: #00af00\">…</span> │\n",
       "├─────────────────────┼───────────────────┼────────────┼───────────────────┤\n",
       "│ flatten (<span style=\"color: #0087ff; text-decoration-color: #0087ff\">Flatten</span>)   │ (<span style=\"color: #00d7ff; text-decoration-color: #00d7ff\">None</span>, <span style=\"color: #00af00; text-decoration-color: #00af00\">1</span>)         │          <span style=\"color: #00af00; text-decoration-color: #00af00\">0</span> │ dot_product[<span style=\"color: #00af00; text-decoration-color: #00af00\">0</span>][<span style=\"color: #00af00; text-decoration-color: #00af00\">0</span>] │\n",
       "├─────────────────────┼───────────────────┼────────────┼───────────────────┤\n",
       "│ dense (<span style=\"color: #0087ff; text-decoration-color: #0087ff\">Dense</span>)       │ (<span style=\"color: #00d7ff; text-decoration-color: #00d7ff\">None</span>, <span style=\"color: #00af00; text-decoration-color: #00af00\">1</span>)         │          <span style=\"color: #00af00; text-decoration-color: #00af00\">2</span> │ flatten[<span style=\"color: #00af00; text-decoration-color: #00af00\">0</span>][<span style=\"color: #00af00; text-decoration-color: #00af00\">0</span>]     │\n",
       "├─────────────────────┼───────────────────┼────────────┼───────────────────┤\n",
       "│ activation          │ (<span style=\"color: #00d7ff; text-decoration-color: #00d7ff\">None</span>, <span style=\"color: #00af00; text-decoration-color: #00af00\">1</span>)         │          <span style=\"color: #00af00; text-decoration-color: #00af00\">0</span> │ dense[<span style=\"color: #00af00; text-decoration-color: #00af00\">0</span>][<span style=\"color: #00af00; text-decoration-color: #00af00\">0</span>]       │\n",
       "│ (<span style=\"color: #0087ff; text-decoration-color: #0087ff\">Activation</span>)        │                   │            │                   │\n",
       "└─────────────────────┴───────────────────┴────────────┴───────────────────┘\n",
       "</pre>\n"
      ],
      "text/plain": [
       "┏━━━━━━━━━━━━━━━━━━━━━┳━━━━━━━━━━━━━━━━━━━┳━━━━━━━━━━━━┳━━━━━━━━━━━━━━━━━━━┓\n",
       "┃\u001b[1m \u001b[0m\u001b[1mLayer (type)       \u001b[0m\u001b[1m \u001b[0m┃\u001b[1m \u001b[0m\u001b[1mOutput Shape     \u001b[0m\u001b[1m \u001b[0m┃\u001b[1m \u001b[0m\u001b[1m   Param #\u001b[0m\u001b[1m \u001b[0m┃\u001b[1m \u001b[0m\u001b[1mConnected to     \u001b[0m\u001b[1m \u001b[0m┃\n",
       "┡━━━━━━━━━━━━━━━━━━━━━╇━━━━━━━━━━━━━━━━━━━╇━━━━━━━━━━━━╇━━━━━━━━━━━━━━━━━━━┩\n",
       "│ user (\u001b[38;5;33mInputLayer\u001b[0m)   │ (\u001b[38;5;45mNone\u001b[0m, \u001b[38;5;34m1\u001b[0m)         │          \u001b[38;5;34m0\u001b[0m │ -                 │\n",
       "├─────────────────────┼───────────────────┼────────────┼───────────────────┤\n",
       "│ movie (\u001b[38;5;33mInputLayer\u001b[0m)  │ (\u001b[38;5;45mNone\u001b[0m, \u001b[38;5;34m1\u001b[0m)         │          \u001b[38;5;34m0\u001b[0m │ -                 │\n",
       "├─────────────────────┼───────────────────┼────────────┼───────────────────┤\n",
       "│ user_embedding      │ (\u001b[38;5;45mNone\u001b[0m, \u001b[38;5;34m1\u001b[0m, \u001b[38;5;34m128\u001b[0m)    │     \u001b[38;5;34m78,080\u001b[0m │ user[\u001b[38;5;34m0\u001b[0m][\u001b[38;5;34m0\u001b[0m]        │\n",
       "│ (\u001b[38;5;33mEmbedding\u001b[0m)         │                   │            │                   │\n",
       "├─────────────────────┼───────────────────┼────────────┼───────────────────┤\n",
       "│ movie_embedding     │ (\u001b[38;5;45mNone\u001b[0m, \u001b[38;5;34m1\u001b[0m, \u001b[38;5;34m128\u001b[0m)    │  \u001b[38;5;34m1,244,672\u001b[0m │ movie[\u001b[38;5;34m0\u001b[0m][\u001b[38;5;34m0\u001b[0m]       │\n",
       "│ (\u001b[38;5;33mEmbedding\u001b[0m)         │                   │            │                   │\n",
       "├─────────────────────┼───────────────────┼────────────┼───────────────────┤\n",
       "│ dot_product (\u001b[38;5;33mDot\u001b[0m)   │ (\u001b[38;5;45mNone\u001b[0m, \u001b[38;5;34m1\u001b[0m, \u001b[38;5;34m1\u001b[0m)      │          \u001b[38;5;34m0\u001b[0m │ user_embedding[\u001b[38;5;34m0\u001b[0m… │\n",
       "│                     │                   │            │ movie_embedding[\u001b[38;5;34m…\u001b[0m │\n",
       "├─────────────────────┼───────────────────┼────────────┼───────────────────┤\n",
       "│ flatten (\u001b[38;5;33mFlatten\u001b[0m)   │ (\u001b[38;5;45mNone\u001b[0m, \u001b[38;5;34m1\u001b[0m)         │          \u001b[38;5;34m0\u001b[0m │ dot_product[\u001b[38;5;34m0\u001b[0m][\u001b[38;5;34m0\u001b[0m] │\n",
       "├─────────────────────┼───────────────────┼────────────┼───────────────────┤\n",
       "│ dense (\u001b[38;5;33mDense\u001b[0m)       │ (\u001b[38;5;45mNone\u001b[0m, \u001b[38;5;34m1\u001b[0m)         │          \u001b[38;5;34m2\u001b[0m │ flatten[\u001b[38;5;34m0\u001b[0m][\u001b[38;5;34m0\u001b[0m]     │\n",
       "├─────────────────────┼───────────────────┼────────────┼───────────────────┤\n",
       "│ activation          │ (\u001b[38;5;45mNone\u001b[0m, \u001b[38;5;34m1\u001b[0m)         │          \u001b[38;5;34m0\u001b[0m │ dense[\u001b[38;5;34m0\u001b[0m][\u001b[38;5;34m0\u001b[0m]       │\n",
       "│ (\u001b[38;5;33mActivation\u001b[0m)        │                   │            │                   │\n",
       "└─────────────────────┴───────────────────┴────────────┴───────────────────┘\n"
      ]
     },
     "metadata": {},
     "output_type": "display_data"
    },
    {
     "data": {
      "text/html": [
       "<pre style=\"white-space:pre;overflow-x:auto;line-height:normal;font-family:Menlo,'DejaVu Sans Mono',consolas,'Courier New',monospace\"><span style=\"font-weight: bold\"> Total params: </span><span style=\"color: #00af00; text-decoration-color: #00af00\">1,322,754</span> (5.05 MB)\n",
       "</pre>\n"
      ],
      "text/plain": [
       "\u001b[1m Total params: \u001b[0m\u001b[38;5;34m1,322,754\u001b[0m (5.05 MB)\n"
      ]
     },
     "metadata": {},
     "output_type": "display_data"
    },
    {
     "data": {
      "text/html": [
       "<pre style=\"white-space:pre;overflow-x:auto;line-height:normal;font-family:Menlo,'DejaVu Sans Mono',consolas,'Courier New',monospace\"><span style=\"font-weight: bold\"> Trainable params: </span><span style=\"color: #00af00; text-decoration-color: #00af00\">1,322,754</span> (5.05 MB)\n",
       "</pre>\n"
      ],
      "text/plain": [
       "\u001b[1m Trainable params: \u001b[0m\u001b[38;5;34m1,322,754\u001b[0m (5.05 MB)\n"
      ]
     },
     "metadata": {},
     "output_type": "display_data"
    },
    {
     "data": {
      "text/html": [
       "<pre style=\"white-space:pre;overflow-x:auto;line-height:normal;font-family:Menlo,'DejaVu Sans Mono',consolas,'Courier New',monospace\"><span style=\"font-weight: bold\"> Non-trainable params: </span><span style=\"color: #00af00; text-decoration-color: #00af00\">0</span> (0.00 B)\n",
       "</pre>\n"
      ],
      "text/plain": [
       "\u001b[1m Non-trainable params: \u001b[0m\u001b[38;5;34m0\u001b[0m (0.00 B)\n"
      ]
     },
     "metadata": {},
     "output_type": "display_data"
    }
   ],
   "source": [
    "model = model_architecture()\n",
    "model.summary()"
   ]
  },
  {
   "cell_type": "code",
   "execution_count": 24,
   "metadata": {},
   "outputs": [],
   "source": [
    "# Correcting the filepath to match the expected format\n",
    "model_checkpoint = ModelCheckpoint(filepath='./weight.weights.h5',\n",
    "                             save_weights_only=True,\n",
    "                             monitor='val_loss',\n",
    "                             mode='min',\n",
    "                             save_best_only=True)\n",
    "\n",
    "early_stopping = EarlyStopping(patience=1, \n",
    "                               monitor='mse', \n",
    "                               mode='min', \n",
    "                               restore_best_weights=True)\n",
    "\n",
    "my_callbacks = [model_checkpoint, early_stopping]\n"
   ]
  },
  {
   "cell_type": "code",
   "execution_count": 25,
   "metadata": {},
   "outputs": [
    {
     "name": "stdout",
     "output_type": "stream",
     "text": [
      "Epoch 1/30\n",
      "\u001b[1m53/53\u001b[0m \u001b[32m━━━━━━━━━━━━━━━━━━━━\u001b[0m\u001b[37m\u001b[0m \u001b[1m5s\u001b[0m 76ms/step - loss: 0.6921 - mse: 0.1021 - precision: 0.9780 - recall: 0.5525 - val_loss: 0.6858 - val_mse: 0.0776 - val_precision: 0.9866 - val_recall: 0.7135\n",
      "Epoch 2/30\n",
      "\u001b[1m53/53\u001b[0m \u001b[32m━━━━━━━━━━━━━━━━━━━━\u001b[0m\u001b[37m\u001b[0m \u001b[1m4s\u001b[0m 69ms/step - loss: 0.6401 - mse: 0.0738 - precision: 0.9993 - recall: 0.8882 - val_loss: 0.6794 - val_mse: 0.0744 - val_precision: 0.9867 - val_recall: 0.8339\n",
      "Epoch 3/30\n",
      "\u001b[1m53/53\u001b[0m \u001b[32m━━━━━━━━━━━━━━━━━━━━\u001b[0m\u001b[37m\u001b[0m \u001b[1m4s\u001b[0m 70ms/step - loss: 0.5923 - mse: 0.0545 - precision: 1.0000 - recall: 0.8824 - val_loss: 0.6742 - val_mse: 0.0718 - val_precision: 0.9868 - val_recall: 0.8994\n",
      "Epoch 4/30\n",
      "\u001b[1m53/53\u001b[0m \u001b[32m━━━━━━━━━━━━━━━━━━━━\u001b[0m\u001b[37m\u001b[0m \u001b[1m4s\u001b[0m 71ms/step - loss: 0.5606 - mse: 0.0372 - precision: 1.0000 - recall: 0.8760 - val_loss: 0.6702 - val_mse: 0.0698 - val_precision: 0.9868 - val_recall: 0.9320\n",
      "Epoch 5/30\n",
      "\u001b[1m53/53\u001b[0m \u001b[32m━━━━━━━━━━━━━━━━━━━━\u001b[0m\u001b[37m\u001b[0m \u001b[1m4s\u001b[0m 71ms/step - loss: 0.5415 - mse: 0.0258 - precision: 1.0000 - recall: 0.8770 - val_loss: 0.6670 - val_mse: 0.0683 - val_precision: 0.9866 - val_recall: 0.9508\n",
      "Epoch 6/30\n",
      "\u001b[1m53/53\u001b[0m \u001b[32m━━━━━━━━━━━━━━━━━━━━\u001b[0m\u001b[37m\u001b[0m \u001b[1m4s\u001b[0m 72ms/step - loss: 0.5204 - mse: 0.0219 - precision: 1.0000 - recall: 0.8787 - val_loss: 0.6644 - val_mse: 0.0670 - val_precision: 0.9866 - val_recall: 0.9615\n",
      "Epoch 7/30\n",
      "\u001b[1m53/53\u001b[0m \u001b[32m━━━━━━━━━━━━━━━━━━━━\u001b[0m\u001b[37m\u001b[0m \u001b[1m4s\u001b[0m 70ms/step - loss: 0.5149 - mse: 0.0169 - precision: 1.0000 - recall: 0.8584 - val_loss: 0.6624 - val_mse: 0.0660 - val_precision: 0.9866 - val_recall: 0.9686\n",
      "Epoch 8/30\n",
      "\u001b[1m53/53\u001b[0m \u001b[32m━━━━━━━━━━━━━━━━━━━━\u001b[0m\u001b[37m\u001b[0m \u001b[1m4s\u001b[0m 70ms/step - loss: 0.5073 - mse: 0.0140 - precision: 1.0000 - recall: 0.8546 - val_loss: 0.6605 - val_mse: 0.0650 - val_precision: 0.9866 - val_recall: 0.9734\n",
      "Epoch 9/30\n",
      "\u001b[1m53/53\u001b[0m \u001b[32m━━━━━━━━━━━━━━━━━━━━\u001b[0m\u001b[37m\u001b[0m \u001b[1m4s\u001b[0m 71ms/step - loss: 0.5076 - mse: 0.0118 - precision: 1.0000 - recall: 0.8567 - val_loss: 0.6589 - val_mse: 0.0643 - val_precision: 0.9866 - val_recall: 0.9769\n",
      "Epoch 10/30\n",
      "\u001b[1m53/53\u001b[0m \u001b[32m━━━━━━━━━━━━━━━━━━━━\u001b[0m\u001b[37m\u001b[0m \u001b[1m4s\u001b[0m 70ms/step - loss: 0.5001 - mse: 0.0110 - precision: 1.0000 - recall: 0.8712 - val_loss: 0.6575 - val_mse: 0.0636 - val_precision: 0.9866 - val_recall: 0.9798\n",
      "Epoch 11/30\n",
      "\u001b[1m53/53\u001b[0m \u001b[32m━━━━━━━━━━━━━━━━━━━━\u001b[0m\u001b[37m\u001b[0m \u001b[1m4s\u001b[0m 71ms/step - loss: 0.4953 - mse: 0.0094 - precision: 1.0000 - recall: 0.8761 - val_loss: 0.6563 - val_mse: 0.0630 - val_precision: 0.9866 - val_recall: 0.9817\n",
      "Epoch 12/30\n",
      "\u001b[1m53/53\u001b[0m \u001b[32m━━━━━━━━━━━━━━━━━━━━\u001b[0m\u001b[37m\u001b[0m \u001b[1m4s\u001b[0m 71ms/step - loss: 0.4845 - mse: 0.0090 - precision: 1.0000 - recall: 0.8848 - val_loss: 0.6551 - val_mse: 0.0624 - val_precision: 0.9866 - val_recall: 0.9838\n",
      "Epoch 13/30\n",
      "\u001b[1m53/53\u001b[0m \u001b[32m━━━━━━━━━━━━━━━━━━━━\u001b[0m\u001b[37m\u001b[0m \u001b[1m4s\u001b[0m 70ms/step - loss: 0.4818 - mse: 0.0081 - precision: 1.0000 - recall: 0.8720 - val_loss: 0.6541 - val_mse: 0.0619 - val_precision: 0.9866 - val_recall: 0.9852\n",
      "Epoch 14/30\n",
      "\u001b[1m53/53\u001b[0m \u001b[32m━━━━━━━━━━━━━━━━━━━━\u001b[0m\u001b[37m\u001b[0m \u001b[1m4s\u001b[0m 70ms/step - loss: 0.4809 - mse: 0.0071 - precision: 1.0000 - recall: 0.8693 - val_loss: 0.6531 - val_mse: 0.0614 - val_precision: 0.9866 - val_recall: 0.9865\n",
      "Epoch 15/30\n",
      "\u001b[1m53/53\u001b[0m \u001b[32m━━━━━━━━━━━━━━━━━━━━\u001b[0m\u001b[37m\u001b[0m \u001b[1m4s\u001b[0m 70ms/step - loss: 0.4823 - mse: 0.0069 - precision: 1.0000 - recall: 0.8565 - val_loss: 0.6522 - val_mse: 0.0610 - val_precision: 0.9865 - val_recall: 0.9878\n",
      "Epoch 16/30\n",
      "\u001b[1m53/53\u001b[0m \u001b[32m━━━━━━━━━━━━━━━━━━━━\u001b[0m\u001b[37m\u001b[0m \u001b[1m4s\u001b[0m 70ms/step - loss: 0.4841 - mse: 0.0059 - precision: 1.0000 - recall: 0.8648 - val_loss: 0.6512 - val_mse: 0.0605 - val_precision: 0.9865 - val_recall: 0.9888\n",
      "Epoch 17/30\n",
      "\u001b[1m53/53\u001b[0m \u001b[32m━━━━━━━━━━━━━━━━━━━━\u001b[0m\u001b[37m\u001b[0m \u001b[1m4s\u001b[0m 72ms/step - loss: 0.4781 - mse: 0.0060 - precision: 1.0000 - recall: 0.8543 - val_loss: 0.6504 - val_mse: 0.0601 - val_precision: 0.9866 - val_recall: 0.9899\n",
      "Epoch 18/30\n",
      "\u001b[1m53/53\u001b[0m \u001b[32m━━━━━━━━━━━━━━━━━━━━\u001b[0m\u001b[37m\u001b[0m \u001b[1m4s\u001b[0m 69ms/step - loss: 0.4712 - mse: 0.0054 - precision: 1.0000 - recall: 0.8671 - val_loss: 0.6496 - val_mse: 0.0598 - val_precision: 0.9866 - val_recall: 0.9906\n",
      "Epoch 19/30\n",
      "\u001b[1m53/53\u001b[0m \u001b[32m━━━━━━━━━━━━━━━━━━━━\u001b[0m\u001b[37m\u001b[0m \u001b[1m4s\u001b[0m 71ms/step - loss: 0.4698 - mse: 0.0054 - precision: 1.0000 - recall: 0.8576 - val_loss: 0.6489 - val_mse: 0.0594 - val_precision: 0.9866 - val_recall: 0.9913\n",
      "Epoch 20/30\n",
      "\u001b[1m53/53\u001b[0m \u001b[32m━━━━━━━━━━━━━━━━━━━━\u001b[0m\u001b[37m\u001b[0m \u001b[1m4s\u001b[0m 70ms/step - loss: 0.4732 - mse: 0.0048 - precision: 1.0000 - recall: 0.8705 - val_loss: 0.6482 - val_mse: 0.0591 - val_precision: 0.9866 - val_recall: 0.9922\n",
      "Epoch 21/30\n",
      "\u001b[1m53/53\u001b[0m \u001b[32m━━━━━━━━━━━━━━━━━━━━\u001b[0m\u001b[37m\u001b[0m \u001b[1m4s\u001b[0m 69ms/step - loss: 0.4622 - mse: 0.0046 - precision: 1.0000 - recall: 0.8573 - val_loss: 0.6475 - val_mse: 0.0587 - val_precision: 0.9866 - val_recall: 0.9929\n",
      "Epoch 22/30\n",
      "\u001b[1m53/53\u001b[0m \u001b[32m━━━━━━━━━━━━━━━━━━━━\u001b[0m\u001b[37m\u001b[0m \u001b[1m4s\u001b[0m 70ms/step - loss: 0.4730 - mse: 0.0044 - precision: 1.0000 - recall: 0.8629 - val_loss: 0.6469 - val_mse: 0.0585 - val_precision: 0.9866 - val_recall: 0.9934\n",
      "Epoch 23/30\n",
      "\u001b[1m53/53\u001b[0m \u001b[32m━━━━━━━━━━━━━━━━━━━━\u001b[0m\u001b[37m\u001b[0m \u001b[1m4s\u001b[0m 69ms/step - loss: 0.4722 - mse: 0.0040 - precision: 1.0000 - recall: 0.8619 - val_loss: 0.6464 - val_mse: 0.0582 - val_precision: 0.9866 - val_recall: 0.9936\n",
      "Epoch 24/30\n",
      "\u001b[1m53/53\u001b[0m \u001b[32m━━━━━━━━━━━━━━━━━━━━\u001b[0m\u001b[37m\u001b[0m \u001b[1m4s\u001b[0m 70ms/step - loss: 0.4651 - mse: 0.0041 - precision: 1.0000 - recall: 0.8562 - val_loss: 0.6459 - val_mse: 0.0579 - val_precision: 0.9866 - val_recall: 0.9942\n",
      "Epoch 25/30\n",
      "\u001b[1m53/53\u001b[0m \u001b[32m━━━━━━━━━━━━━━━━━━━━\u001b[0m\u001b[37m\u001b[0m \u001b[1m4s\u001b[0m 71ms/step - loss: 0.4678 - mse: 0.0037 - precision: 1.0000 - recall: 0.8645 - val_loss: 0.6454 - val_mse: 0.0577 - val_precision: 0.9866 - val_recall: 0.9946\n",
      "Epoch 26/30\n",
      "\u001b[1m53/53\u001b[0m \u001b[32m━━━━━━━━━━━━━━━━━━━━\u001b[0m\u001b[37m\u001b[0m \u001b[1m4s\u001b[0m 71ms/step - loss: 0.4689 - mse: 0.0036 - precision: 1.0000 - recall: 0.8803 - val_loss: 0.6450 - val_mse: 0.0575 - val_precision: 0.9866 - val_recall: 0.9948\n",
      "Epoch 27/30\n",
      "\u001b[1m53/53\u001b[0m \u001b[32m━━━━━━━━━━━━━━━━━━━━\u001b[0m\u001b[37m\u001b[0m \u001b[1m4s\u001b[0m 70ms/step - loss: 0.4579 - mse: 0.0035 - precision: 1.0000 - recall: 0.8655 - val_loss: 0.6446 - val_mse: 0.0573 - val_precision: 0.9866 - val_recall: 0.9951\n",
      "Epoch 28/30\n",
      "\u001b[1m53/53\u001b[0m \u001b[32m━━━━━━━━━━━━━━━━━━━━\u001b[0m\u001b[37m\u001b[0m \u001b[1m4s\u001b[0m 70ms/step - loss: 0.4651 - mse: 0.0034 - precision: 1.0000 - recall: 0.8569 - val_loss: 0.6443 - val_mse: 0.0572 - val_precision: 0.9866 - val_recall: 0.9955\n",
      "Epoch 29/30\n",
      "\u001b[1m53/53\u001b[0m \u001b[32m━━━━━━━━━━━━━━━━━━━━\u001b[0m\u001b[37m\u001b[0m \u001b[1m4s\u001b[0m 70ms/step - loss: 0.4669 - mse: 0.0031 - precision: 1.0000 - recall: 0.8742 - val_loss: 0.6440 - val_mse: 0.0570 - val_precision: 0.9866 - val_recall: 0.9957\n",
      "Epoch 30/30\n",
      "\u001b[1m53/53\u001b[0m \u001b[32m━━━━━━━━━━━━━━━━━━━━\u001b[0m\u001b[37m\u001b[0m \u001b[1m4s\u001b[0m 70ms/step - loss: 0.4606 - mse: 0.0030 - precision: 1.0000 - recall: 0.8639 - val_loss: 0.6437 - val_mse: 0.0569 - val_precision: 0.9866 - val_recall: 0.9960\n"
     ]
    }
   ],
   "source": [
    "history = model.fit(x = X_train,\n",
    "                    y = y_train,\n",
    "                    validation_data = (X_test, y_test),\n",
    "                    epochs = 30,\n",
    "                    batch_size = 32,\n",
    "                    verbose = 1,\n",
    "                    callbacks = my_callbacks)"
   ]
  },
  {
   "cell_type": "code",
   "execution_count": null,
   "metadata": {},
   "outputs": [],
   "source": [
    "def weight_model(name, model):\n",
    "    weight = model.get_layer(name).get_weights()[0]\n",
    "    weight = weight / np.linalg.norm(weight, axis = 1).reshape((-1, 1))\n",
    "    return weight\n",
    "\n",
    "movie_weight = weight_model('movie_embedding', model)\n",
    "user_weight = weight_model('user_embedding', model)"
   ]
  },
  {
   "cell_type": "markdown",
   "metadata": {},
   "source": [
    "## Result\n",
    "Dalam proyek ini digunakan model dengan teknik embedding, yaitu Neural Collaborative Filtering (NCF). NCF adalah sebuah jaringan saraf tiruan yang menerapkan metode collaborative filtering berdasarkan umpan balik implisit, yang mampu merekomendasikan produk berdasarkan interaksi antara pengguna dan item. Sebagai contoh, model ini dapat merekomendasikan film berdasarkan skor rating yang diberikan oleh pengguna. "
   ]
  },
  {
   "cell_type": "markdown",
   "metadata": {},
   "source": [
    "### Result to get the similar Users\n",
    "Fungsi get_similar_users bertujuan untuk mengidentifikasi pengguna yang mirip berdasarkan parameter tertentu. Fungsi ini membutuhkan tempId (identifikasi sementara pengguna) dan n (jumlah pengguna mirip yang ingin ditemukan, dengan default 10). Dalam fungsi ini, index diatur ke tempId dan weights diinisialisasi dengan user_weight, yang mungkin merupakan matriks bobot pengguna. Fungsi kemudian menghitung jarak (atau kesamaan) antara pengguna yang dicari dan seluruh pengguna lainnya menggunakan np.dot. Hasil dari perhitungan jarak diurutkan dengan np.argsort dan mengambil n pengguna dengan jarak terdekat menggunakan indeks terurut.\n",
    "\n",
    "Setelah pengguna dengan jarak terdekat ditemukan, fungsi akan mencetak ID pengguna yang mirip dan menyimpan pasangan pengguna dengan tingkat kemiripannya dalam SimilarArr. Setelah iterasi selesai, output disimpan dalam bentuk DataFrame Frame dan dikembalikan sebagai hasil akhir."
   ]
  },
  {
   "cell_type": "code",
   "execution_count": null,
   "metadata": {},
   "outputs": [],
   "source": [
    "def get_similar_users(tempId, n = 10):\n",
    "      index = tempId\n",
    "      weights = user_weight\n",
    "      dists = np.dot(weights, weights[encoderUser.get(index)])\n",
    "      sortedDists = np.argsort(dists)\n",
    "      n += 1\n",
    "      closest = sortedDists[-n:]\n",
    "      print('User that similar to user #{}'.format(tempId))\n",
    "      \n",
    "      SimilarArr = []\n",
    "      \n",
    "      for close in closest:\n",
    "          similarity = dists[closest]\n",
    "\n",
    "          if isinstance(tempId, int):\n",
    "              SimilarArr.append({\"similar_users\" : encodertoUser.get(close), \"similarity\" : similarity})\n",
    "\n",
    "      Frame = pd.DataFrame(SimilarArr)\n",
    "      return Frame"
   ]
  },
  {
   "cell_type": "code",
   "execution_count": null,
   "metadata": {},
   "outputs": [
    {
     "name": "stdout",
     "output_type": "stream",
     "text": [
      "User that similar to user #393\n"
     ]
    },
    {
     "data": {
      "text/plain": [
       "0     459\n",
       "1     186\n",
       "2     450\n",
       "3     568\n",
       "4       1\n",
       "5     406\n",
       "6     602\n",
       "7     323\n",
       "8     264\n",
       "9      81\n",
       "10    393\n",
       "Name: similar_users, dtype: int64"
      ]
     },
     "metadata": {},
     "output_type": "display_data"
    }
   ],
   "source": [
    "get_similar_users(393)['similar_users']"
   ]
  },
  {
   "cell_type": "markdown",
   "metadata": {},
   "source": [
    "### Result to get movie preference with Top-n\n",
    "Untuk mendapatkan result mengenai top-n berdasarkan perilaku pengguna, dapat menggunakan fungsi movie_preference. Berikut adalah tahapan untuk mendapatkan daftar rekomendasi film berdasarkan perilaku pengguna, yang dalam hal ini mencakup pemberian rating terhadap film yang telah ditonton:\n",
    "\n",
    "1. Mengidentifikasi daftar film yang telah ditonton oleh pengguna, kemudian data tersebut dimasukkan ke dalam dataframe baru dengan parameter userId, plot diatur ke False, dan temp diatur bernilai 1.\n",
    "2. Menentukan film dengan rating terendah dari data yang sesuai, menggunakan parameter rating_df.userId dengan nilai yang sama seperti userId.\n",
    "3. Membuat referensi film terbaik (top_movie_reference) berdasarkan urutan rating dengan parameter sort_values pada kolom \"rating\" dan pengaturan ascending bernilai False.\n",
    "4. Membentuk dataframe baru, user_pref_df, dari dataframe utama movie_df, yang kemudian difilter agar hanya berisi data film yang masuk dalam top_movie_reference. Dalam tahap ini, parameter movie_df difokuskan pada movieId dan menggunakan isin dari top_movie_reference.\n",
    "5. Menghitung rata-rata rating dari film yang telah dinilai oleh pengguna, menggunakan parameter rating_df.userId dengan nilai yang sama seperti userId."
   ]
  },
  {
   "cell_type": "code",
   "execution_count": null,
   "metadata": {},
   "outputs": [],
   "source": [
    "def movie_preference(userId, plot = False, temp = 1):\n",
    "  \n",
    "  # menentukan batas rating terendah movie\n",
    "  low_rating = np.percentile(data[data['userId'] == userId]['rating'], 75)\n",
    "  data[data['userId'] == userId] = data[data['userId'] == userId][data[data['userId'] == userId]['rating'] >= low_rating]\n",
    "  top_movie_refference = (data[data['userId'] == userId].sort_values(by = \"rating\", ascending = False)['movieId'].values)\n",
    "  \n",
    "  user_pref_df = data[data[\"movieId\"].isin(top_movie_refference)]\n",
    "  user_pref_df = user_pref_df[[\"movieId\",\"title\", \"genres\"]]\n",
    "  \n",
    "  if temp != 0:\n",
    "      print(\"Berikut ini adalah list rekomendasi film dari user dengan id #{} yang telah mereview {} film dengan rata-rata ratingnya adalah = {:.1f}/5.0\".format(\n",
    "        userId, len(data[data['userId']==userId]),\n",
    "        data[data['userId']==userId]['rating'].mean()*5,\n",
    "      ))\n",
    "\n",
    "  return user_pref_df\n",
    "     "
   ]
  },
  {
   "cell_type": "markdown",
   "metadata": {},
   "source": [
    "Diperoleh bahwa preference movie yang similar berdasarkan perilaku pengguna 393 adalah sebagai berikut"
   ]
  },
  {
   "cell_type": "code",
   "execution_count": null,
   "metadata": {},
   "outputs": [
    {
     "name": "stdout",
     "output_type": "stream",
     "text": [
      "Berikut ini adalah list rekomendasi film dari user dengan id #393 yang telah mereview 68 film dengan rata-rata ratingnya adalah = 5.0/5.0\n"
     ]
    },
    {
     "data": {
      "text/html": [
       "<div>\n",
       "<style scoped>\n",
       "    .dataframe tbody tr th:only-of-type {\n",
       "        vertical-align: middle;\n",
       "    }\n",
       "\n",
       "    .dataframe tbody tr th {\n",
       "        vertical-align: top;\n",
       "    }\n",
       "\n",
       "    .dataframe thead th {\n",
       "        text-align: right;\n",
       "    }\n",
       "</style>\n",
       "<table border=\"1\" class=\"dataframe\">\n",
       "  <thead>\n",
       "    <tr style=\"text-align: right;\">\n",
       "      <th></th>\n",
       "      <th>movieId</th>\n",
       "      <th>title</th>\n",
       "      <th>genres</th>\n",
       "    </tr>\n",
       "  </thead>\n",
       "  <tbody>\n",
       "    <tr>\n",
       "      <th>25</th>\n",
       "      <td>457.0</td>\n",
       "      <td>Fugitive, The (1993)</td>\n",
       "      <td>Thriller</td>\n",
       "    </tr>\n",
       "    <tr>\n",
       "      <th>62</th>\n",
       "      <td>1089.0</td>\n",
       "      <td>Reservoir Dogs (1992)</td>\n",
       "      <td>Crime|Mystery|Thriller</td>\n",
       "    </tr>\n",
       "    <tr>\n",
       "      <th>70</th>\n",
       "      <td>1198.0</td>\n",
       "      <td>Raiders of the Lost Ark (Indiana Jones and the...</td>\n",
       "      <td>Action|Adventure</td>\n",
       "    </tr>\n",
       "    <tr>\n",
       "      <th>71</th>\n",
       "      <td>1206.0</td>\n",
       "      <td>Clockwork Orange, A (1971)</td>\n",
       "      <td>Crime|Drama|Sci-Fi|Thriller</td>\n",
       "    </tr>\n",
       "    <tr>\n",
       "      <th>89</th>\n",
       "      <td>1291.0</td>\n",
       "      <td>Indiana Jones and the Last Crusade (1989)</td>\n",
       "      <td>Action|Adventure</td>\n",
       "    </tr>\n",
       "    <tr>\n",
       "      <th>147</th>\n",
       "      <td>2329.0</td>\n",
       "      <td>American History X (1998)</td>\n",
       "      <td>Crime|Drama</td>\n",
       "    </tr>\n",
       "    <tr>\n",
       "      <th>166</th>\n",
       "      <td>2571.0</td>\n",
       "      <td>Matrix, The (1999)</td>\n",
       "      <td>Action|Sci-Fi|Thriller</td>\n",
       "    </tr>\n",
       "    <tr>\n",
       "      <th>192</th>\n",
       "      <td>2959.0</td>\n",
       "      <td>Fight Club (1999)</td>\n",
       "      <td>Action|Crime|Drama|Thriller</td>\n",
       "    </tr>\n",
       "    <tr>\n",
       "      <th>197</th>\n",
       "      <td>2997.0</td>\n",
       "      <td>Being John Malkovich (1999)</td>\n",
       "      <td>Comedy|Drama|Fantasy</td>\n",
       "    </tr>\n",
       "    <tr>\n",
       "      <th>228</th>\n",
       "      <td>3793.0</td>\n",
       "      <td>X-Men (2000)</td>\n",
       "      <td>Action|Adventure|Sci-Fi</td>\n",
       "    </tr>\n",
       "  </tbody>\n",
       "</table>\n",
       "</div>"
      ],
      "text/plain": [
       "     movieId                                              title  \\\n",
       "25     457.0                               Fugitive, The (1993)   \n",
       "62    1089.0                              Reservoir Dogs (1992)   \n",
       "70    1198.0  Raiders of the Lost Ark (Indiana Jones and the...   \n",
       "71    1206.0                         Clockwork Orange, A (1971)   \n",
       "89    1291.0          Indiana Jones and the Last Crusade (1989)   \n",
       "147   2329.0                          American History X (1998)   \n",
       "166   2571.0                                 Matrix, The (1999)   \n",
       "192   2959.0                                  Fight Club (1999)   \n",
       "197   2997.0                        Being John Malkovich (1999)   \n",
       "228   3793.0                                       X-Men (2000)   \n",
       "\n",
       "                          genres  \n",
       "25                      Thriller  \n",
       "62        Crime|Mystery|Thriller  \n",
       "70              Action|Adventure  \n",
       "71   Crime|Drama|Sci-Fi|Thriller  \n",
       "89              Action|Adventure  \n",
       "147                  Crime|Drama  \n",
       "166       Action|Sci-Fi|Thriller  \n",
       "192  Action|Crime|Drama|Thriller  \n",
       "197         Comedy|Drama|Fantasy  \n",
       "228      Action|Adventure|Sci-Fi  "
      ]
     },
     "metadata": {},
     "output_type": "display_data"
    }
   ],
   "source": [
    "reff_user = movie_preference(393, plot = True)\n",
    "reff_user = pd.DataFrame(reff_user)\n",
    "reff_user.head(10)"
   ]
  },
  {
   "cell_type": "markdown",
   "metadata": {},
   "source": [
    "# Evaluasi Performance\n",
    "Pada proses evaluasi performance dilakukan untuk mengetahui performa model yang telah dibangun. Dalam hal ini, model akan diuji pada dataset test dan disimpan dalam bentuk grafik. Grafik berikut menunjukkan hasil performa model pada dataset test dan train di setiap epochnya. Pada proses evaluasi dilakukan dengan perhitungan MSE loss, recall, dan precision."
   ]
  },
  {
   "cell_type": "markdown",
   "metadata": {},
   "source": [
    "Pada `loss performance` dapat dilihat bahwa loss pada train mengalami penurunan yang cukup signifikan namun pada test loss tidak mengalami penurunan yang cukup signifikan."
   ]
  },
  {
   "cell_type": "markdown",
   "metadata": {},
   "source": [
    "`MSE` pada Train mengalami penurunan, sedangkan MSE pada Test cenderung stabil dengan sedikit penurunan yang tidak signifikan"
   ]
  },
  {
   "cell_type": "code",
   "execution_count": 27,
   "metadata": {},
   "outputs": [
    {
     "data": {
      "image/png": "[encoded data removed]",
      "text/plain": [
       "<Figure size 640x480 with 1 Axes>"
      ]
     },
     "metadata": {},
     "output_type": "display_data"
    }
   ],
   "source": [
    "plt.title('Model MSE Performance')\n",
    "plt.plot(history.history['mse'])\n",
    "plt.plot(history.history['val_mse'])\n",
    "plt.ylabel('loss')\n",
    "plt.xlabel('epoch')\n",
    "plt.legend(['train', 'test'], loc='upper right')\n",
    "plt.show()"
   ]
  },
  {
   "cell_type": "markdown",
   "metadata": {},
   "source": [
    "`recall` pada Test yang terus meningkat, sementara recall pada Train menunjukkan pola menurun dengan sedikit fluktuasi."
   ]
  },
  {
   "cell_type": "code",
   "execution_count": 28,
   "metadata": {},
   "outputs": [
    {
     "data": {
      "image/png": "[encoded data removed]",
      "text/plain": [
       "<Figure size 640x480 with 1 Axes>"
      ]
     },
     "metadata": {},
     "output_type": "display_data"
    }
   ],
   "source": [
    "plt.title('Model Recall Performance')\n",
    "plt.plot(history.history['recall'])\n",
    "plt.plot(history.history['val_recall'])\n",
    "plt.ylabel('loss')\n",
    "plt.xlabel('epoch')\n",
    "plt.legend(['train', 'test'], loc='upper right')\n",
    "plt.show()"
   ]
  },
  {
   "cell_type": "markdown",
   "metadata": {},
   "source": [
    "`precision` pada Train cenderung meningkat, sementara precision pada Test tetap stabil sepanjang pengujian"
   ]
  },
  {
   "cell_type": "code",
   "execution_count": 29,
   "metadata": {},
   "outputs": [
    {
     "data": {
      "image/png": "[encoded data removed]",
      "text/plain": [
       "<Figure size 640x480 with 1 Axes>"
      ]
     },
     "metadata": {},
     "output_type": "display_data"
    }
   ],
   "source": [
    "plt.title('Model Precision Performance')\n",
    "plt.plot(history.history['precision'])\n",
    "plt.plot(history.history['val_precision'])\n",
    "plt.ylabel('loss')\n",
    "plt.xlabel('epoch')\n",
    "plt.legend(['train', 'test'], loc='upper right')\n",
    "plt.show()"
   ]
  },
  {
   "cell_type": "markdown",
   "metadata": {},
   "source": [
    "# Kesimpulan\n",
    "Pada bagian kesimpulan ini berisikan sebuah jawaban dari problem statment berdasarkan result dan evaluasi yang di peroleh\n",
    "1. Meningkatkan pengalaman pengguna dapat dilakukan dengan implementasi sebuah sistem rekomendasi berdasarkan perilaku pengguna, hal ini dapat dilakukan dengan mendapatkan sebuah similar user yang memiliki perilaku yang mirip dengan perilaku pengguna tersebut, dapat dilihat bahwa paada user 393. Memperoleh sebuah similar user sebagai berikut:\n",
    "#### User that similar to user #393\n",
    "\n",
    "| Rank | User ID |\n",
    "|------|---------|\n",
    "| 0    | 459     |\n",
    "| 1    | 186     |\n",
    "| 2    | 450     |\n",
    "| 3    | 568     |\n",
    "| 4    | 1       |\n",
    "| 5    | 406     |\n",
    "| 6    | 602     |\n",
    "| 7    | 323     |\n",
    "| 8    | 264     |\n",
    "| 9    | 81      |\n",
    "| 10   | 393     |\n",
    "\n",
    "Untuk mengetahui sebuah performa model dalam memetakan similar user berdasarkan perilaku nya, dapat dilihat dari evaluasi model yang di lakukan selama proses training yang mana pada tahap ini terdapat evaluasi pada model MSE, recall, dan precision.\n",
    "- Nilai Mean Squared Error (MSE) sebesar 0.01 untuk data train dan 0.06 untuk data testing.\n",
    "- Nilai Precision sebesar 1.0000 untuk data training dan 0.0986 untuk data test\n",
    "- Nilai Recall sebesar 0.89 untuk data train dan 1.00 untuk data test\n",
    "Jika dilihat dari performa model bahwa model dapat memetakan similar user dengan baik, dengan nilai pada MSE pada data train dan test sebesar 0.01 dan 0.06. Dan nilai precision dan recall sebesar 1.0000 dan 0.89 untuk data training serta 0.986 dan 1.00 untuk data test. Dengan demikian dapat dikatakan bahwa model dapat memetakan similar user dengan baik. Jika dilihat bahwa loss MSE yang diperoleh 0.01 dan 0.06 yang cukup similar yang mana menandakan bahwa model good fit, sedangkan hasil pada precision dan recal pada data test cukup baik dengan nilai sebesar 0.986 dan 1.00 pada data test yang menandakan bahwa model dapat memetakan similar user dengan baik yang mana false 1 dan false 2 di estimasikan minim terjadi.\n",
    "\n",
    "\n",
    "\n",
    "2. Cara mengimplementasikan pendekatan collaborative filtering dilakukan berdasarkan kedekatan user nya dengan top-n recommendatin method, berikut tahapan yang dapat dilakukan untuk mengimplementasikan pendekatan collaborative filtering:\n",
    "    1. Mengidentifikasi daftar film yang telah ditonton oleh pengguna, kemudian data tersebut dimasukkan ke dalam dataframe baru dengan parameter userId, plot diatur ke False, dan temp diatur bernilai 1.\n",
    "    2. Menentukan film dengan rating terendah dari data yang sesuai, menggunakan parameter rating_df.userId dengan nilai yang sama seperti userId.\n",
    "    3. Membuat referensi film terbaik (top_movie_reference) berdasarkan urutan rating dengan parameter sort_values pada kolom \"rating\" dan pengaturan ascending bernilai False.\n",
    "    4. Membentuk dataframe baru, user_pref_df, dari dataframe utama movie_df, yang kemudian difilter agar hanya berisi data film yang masuk dalam top_movie_reference. Dalam tahap ini, parameter movie_df difokuskan pada movieId dan menggunakan isin dari top_movie_reference.\n",
    "    5. Menghitung rata-rata rating dari film yang telah dinilai oleh pengguna, menggunakan parameter rating_df.userId dengan nilai yang sama seperti userId.\n",
    "\n",
    "### Rekomendasi Film untuk User ID #393\n",
    "\n",
    "Berikut ini adalah hasil implementasi dengan pendekatan collaborative filtering berdasarkan kedekatan user nya dengan top-n recommendatin method, daftar rekomendasi film  dari user dengan ID #393 yang telah mereview 68 film dengan rata-rata ratingnya adalah 5.0/5.0 yang mana dapat dilihat pada tabel berikut:\n",
    "\n",
    "| Rank | Movie ID | Title                                                 | Genres                           |\n",
    "|------|----------|-------------------------------------------------------|----------------------------------|\n",
    "| 1    | 457.0    | Fugitive, The (1993)                                  | Thriller                         |\n",
    "| 2    | 1089.0   | Reservoir Dogs (1992)                                 | Crime|Mystery|Thriller           |\n",
    "| 3    | 1198.0   | Raiders of the Lost Ark (Indiana Jones and the...)    | Action|Adventure                 |\n",
    "| 4    | 1206.0   | Clockwork Orange, A (1971)                            | Crime|Drama|Sci-Fi|Thriller      |\n",
    "| 5    | 1291.0   | Indiana Jones and the Last Crusade (1989)             | Action|Adventure                 |\n",
    "| 6    | 2329.0   | American History X (1998)                             | Crime|Drama                      |\n",
    "| 7    | 2571.0   | Matrix, The (1999)                                    | Action|Sci-Fi|Thriller           |\n",
    "| 8    | 2959.0   | Fight Club (1999)                                     | Action|Crime|Drama|Thriller      |\n",
    "| 9    | 2997.0   | Being John Malkovich (1999)                           | Comedy|Drama|Fantasy             |\n",
    "| 10   | 3793.0   | X-Men (2000)                                          | Action|Adventure|Sci-Fi          |\n"
   ]
  }
 ],
 "metadata": {
  "kernelspec": {
   "display_name": "Python 3.12.8 ('env': venv)",
   "language": "python",
   "name": "python3"
  },
  "language_info": {
   "codemirror_mode": {
    "name": "ipython",
    "version": 3
   },
   "file_extension": ".py",
   "mimetype": "text/x-python",
   "name": "python",
   "nbconvert_exporter": "python",
   "pygments_lexer": "ipython3",
   "version": "3.12.8"
  },
  "orig_nbformat": 4,
  "vscode": {
   "interpreter": {
    "hash": "02ba7daa5f68b9b04450ebeb3dd1f6ec2d27e66e93661ec1e30d94e693b7488e"
   }
  }
 },
 "nbformat": 4,
 "nbformat_minor": 2
}
